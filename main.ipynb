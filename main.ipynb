{
 "cells": [
  {
   "cell_type": "markdown",
   "metadata": {},
   "source": [
    "# Group Optimization"
   ]
  },
  {
   "cell_type": "markdown",
   "metadata": {},
   "source": [
    "## import"
   ]
  },
  {
   "cell_type": "code",
   "execution_count": null,
   "metadata": {},
   "outputs": [],
   "source": [
    "import openjij as oj\n",
    "from pyqubo import Binary, Constraint\n",
    "import neal\n",
    "import numpy as np\n",
    "import networkx as nx\n",
    "import itertools\n",
    "import matplotlib.pyplot as plt"
   ]
  },
  {
   "cell_type": "markdown",
   "metadata": {},
   "source": [
    "## Parameters"
   ]
  },
  {
   "cell_type": "code",
   "execution_count": null,
   "metadata": {},
   "outputs": [],
   "source": [
    "n_verts = 9\n",
    "n_groups = 3\n",
    "\n",
    "w = np.array(\n",
    "    [\n",
    "        [0, 10, 1, 1, 1, 1, 10, 1, 1],\n",
    "        [10, 0, 1, 1, 1, 1, 10, 1, 1],\n",
    "        [1, 1, 0, 10, 1, 1, 1, 10, 1],\n",
    "        [1, 1, 10, 0, 1, 1, 1, 10, 1],\n",
    "        [1, 1, 1, 1, 0, 10, 1, 1, 10],\n",
    "        [1, 1, 1, 1, 10, 0, 1, 1, 10],\n",
    "        [10, 10, 1, 1, 1, 1, 0, 1, 1],\n",
    "        [1, 1, 10, 10, 1, 1, 1, 0, 1],\n",
    "        [1, 1, 1, 1, 10, 10, 1, 1, 0],\n",
    "    ]\n",
    ")"
   ]
  },
  {
   "cell_type": "markdown",
   "metadata": {},
   "source": [
    "## Calculation"
   ]
  },
  {
   "cell_type": "code",
   "execution_count": null,
   "metadata": {},
   "outputs": [],
   "source": [
    "# Parameters generated automatically\n",
    "n_group_verts = n_verts // n_groups\n",
    "\n",
    "# If you want to manually set the coefficients, you can change the following code\n",
    "P_g = sum([w[i, j] for i, j in itertools.combinations(range(n_verts), 2)]) / 2\n",
    "print(f\"Groups penalty: {P_g}\")\n",
    "\n",
    "P_n = sum([w[i, j] for i, j in itertools.combinations(range(n_verts), 2)]) / 2\n",
    "print(f\"Node in group penalty: {P_n}\")"
   ]
  },
  {
   "cell_type": "code",
   "execution_count": null,
   "metadata": {},
   "outputs": [],
   "source": [
    "# Create a graph\n",
    "V = [i for i in range(n_verts)]\n",
    "G = [i for i in range(n_groups)]\n",
    "\n",
    "x = {(v, g): Binary(f\"{v},{g}\") for v in V for g in G}"
   ]
  },
  {
   "cell_type": "markdown",
   "metadata": {},
   "source": [
    "$$\n",
    "H = P_g \\sum_{v\\in V} \\left( \\sum_{g\\in G} x_{v,g}-1 \\right)^2  +  P_n \\sum_{g\\in G} \\left( \\sum_{v\\in V} x_{v,g}-n \\right)^2  -  \\sum_{g\\in G}\\sum_{(i,j)\\in V} x_{i,g}x_{j,g}w_{i,j}\n",
    "$$"
   ]
  },
  {
   "cell_type": "code",
   "execution_count": null,
   "metadata": {},
   "outputs": [],
   "source": [
    "# Create a model\n",
    "H = (\n",
    "    P_g\n",
    "    * Constraint(\n",
    "        sum((sum(x[v, g] for g in G) - 1) ** 2 for v in V), label=\"group_constraint\"\n",
    "    )\n",
    "    + P_n\n",
    "    * Constraint(\n",
    "        sum((sum(x[v, g] for v in V) - n_group_verts) ** 2 for g in G),\n",
    "        label=\"node_constraint\",\n",
    "    )\n",
    "    - sum(\n",
    "        w[i][j] * x[i, g] * x[j, g]\n",
    "        for g in G\n",
    "        for (i, j) in itertools.combinations(V, 2)\n",
    "    )\n",
    ")\n",
    "\n",
    "# Compile the model\n",
    "model = H.compile()\n",
    "qubo, _ = model.to_qubo()\n",
    "\n",
    "\n",
    "# Function for evaluating the score\n",
    "def get_score(x):\n",
    "    group_penalty = P_g * sum((sum(x[v, g] for g in G) - 1) ** 2 for v in V)\n",
    "    node_penalty = P_n * sum((sum(x[v, g] for v in V) - n_group_verts) ** 2 for g in G)\n",
    "    objective_value = sum(\n",
    "        w[i][j] * x[i, g] * x[j, g]\n",
    "        for g in G\n",
    "        for (i, j) in itertools.combinations(V, 2)\n",
    "    )\n",
    "\n",
    "    return group_penalty + node_penalty - objective_value"
   ]
  },
  {
   "cell_type": "code",
   "execution_count": null,
   "metadata": {},
   "outputs": [],
   "source": [
    "# Show the result\n",
    "labels_row = [f\"v{i}\" for i in V]\n",
    "labels_col = [f\"g{i}\" for i in G]\n",
    "\n",
    "\n",
    "def show_result(rows):\n",
    "    _, ax = plt.subplots(figsize=(len(G), len(V) / 3))\n",
    "    ax.axis(\"tight\")\n",
    "    ax.axis(\"off\")\n",
    "    table_data = []\n",
    "    for i, row in enumerate(rows):\n",
    "        table_data.append([labels_row[i]] + list(row))\n",
    "\n",
    "    ax.table(\n",
    "        cellText=table_data, colLabels=[\"\"] + labels_col, cellLoc=\"center\", loc=\"center\"\n",
    "    )\n",
    "    plt.show()\n",
    "\n",
    "\n",
    "def plot_graph(rows):\n",
    "    graph = nx.Graph()\n",
    "    groups = {g: [] for g in G}\n",
    "    for v in V:\n",
    "        row = rows[v]\n",
    "        for g in G:\n",
    "            if row[g] == 1:\n",
    "                groups[g].append(v)\n",
    "\n",
    "    for g in G:\n",
    "        graph.add_nodes_from(groups[g], group=g)\n",
    "        for i, j in itertools.combinations(V, 2):\n",
    "            if rows[i][g] == 1 and rows[j][g] == 1:\n",
    "                graph.add_edge(i, j)\n",
    "\n",
    "    pos = nx.spring_layout(graph, k=1)\n",
    "    nx.draw(graph, pos=pos, with_labels=True, node_color=\"lightgreen\")\n",
    "    plt.show()"
   ]
  },
  {
   "cell_type": "markdown",
   "metadata": {},
   "source": [
    "### D-Wave"
   ]
  },
  {
   "cell_type": "code",
   "execution_count": null,
   "metadata": {},
   "outputs": [],
   "source": [
    "sampler_dwave = neal.SimulatedAnnealingSampler()\n",
    "response_dwave = sampler_dwave.sample_qubo(qubo)\n",
    "\n",
    "decoded_samples = model.decode_sample(response_dwave.first.sample, vartype=\"BINARY\")\n",
    "solution_dwave = {key: val for key, val in decoded_samples.sample.items() if val == 1}\n",
    "\n",
    "rows = np.zeros((len(V), len(G)), dtype=int)\n",
    "for key, val in solution_dwave.items():\n",
    "    v, g = key.split(\",\")\n",
    "    rows[int(v), int(g)] = val\n",
    "\n",
    "score = get_score(rows)\n",
    "print(f\"Score: {score}\")\n",
    "\n",
    "show_result(rows)\n",
    "plot_graph(rows)"
   ]
  },
  {
   "cell_type": "markdown",
   "metadata": {},
   "source": [
    "### OpenJij"
   ]
  },
  {
   "cell_type": "code",
   "execution_count": null,
   "metadata": {},
   "outputs": [],
   "source": [
    "# Optimize with OpenJij\n",
    "sampler_openjij = oj.SASampler()\n",
    "response_openjij = sampler_openjij.sample_qubo(qubo)\n",
    "decoded_samples = model.decode_sample(response_openjij.first.sample, vartype=\"BINARY\")\n",
    "solution = {key: val for key, val in decoded_samples.sample.items() if val == 1}\n",
    "\n",
    "\n",
    "# Score the result\n",
    "rows = np.zeros((len(V), len(G)), dtype=int)\n",
    "for key, val in solution.items():\n",
    "    v, g = key.split(\",\")\n",
    "    rows[int(v), int(g)] = val\n",
    "\n",
    "score = get_score(rows)\n",
    "print(f\"Score: {score}\")\n",
    "\n",
    "show_result(rows)\n",
    "plot_graph(rows)\n"
   ]
  }
 ],
 "metadata": {
  "kernelspec": {
   "display_name": ".venv",
   "language": "python",
   "name": "python3"
  },
  "language_info": {
   "codemirror_mode": {
    "name": "ipython",
    "version": 3
   },
   "file_extension": ".py",
   "mimetype": "text/x-python",
   "name": "python",
   "nbconvert_exporter": "python",
   "pygments_lexer": "ipython3",
   "version": "3.11.6"
  }
 },
 "nbformat": 4,
 "nbformat_minor": 2
}
