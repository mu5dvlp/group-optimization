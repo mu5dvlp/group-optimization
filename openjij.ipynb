{
 "cells": [
  {
   "cell_type": "markdown",
   "metadata": {},
   "source": [
    "# Group Optimization"
   ]
  },
  {
   "cell_type": "markdown",
   "metadata": {},
   "source": [
    "## import"
   ]
  },
  {
   "cell_type": "code",
   "execution_count": 15,
   "metadata": {},
   "outputs": [],
   "source": [
    "import openjij as oj\n",
    "from pyqubo import Binary, Constraint\n",
    "import numpy as np\n",
    "import itertools\n",
    "import matplotlib.pyplot as plt"
   ]
  },
  {
   "cell_type": "markdown",
   "metadata": {},
   "source": [
    "## Parameters"
   ]
  },
  {
   "cell_type": "code",
   "execution_count": 16,
   "metadata": {},
   "outputs": [],
   "source": [
    "n_verts = 9\n",
    "n_groups = 3\n",
    "n_group_verts = n_verts // n_groups\n",
    "\n",
    "w = np.array(\n",
    "    [\n",
    "        [0, 10, 1, 1, 1, 1, 10, 1, 1],\n",
    "        [10, 0, 1, 1, 1, 1, 10, 1, 1],\n",
    "        [1, 1, 0, 10, 1, 1, 1, 10, 1],\n",
    "        [1, 1, 10, 0, 1, 1, 1, 10, 1],\n",
    "        [1, 1, 1, 1, 0, 10, 1, 1, 10],\n",
    "        [1, 1, 1, 1, 10, 0, 1, 1, 10],\n",
    "        [10, 10, 1, 1, 1, 1, 0, 1, 1],\n",
    "        [1, 1, 10, 10, 1, 1, 1, 0, 1],\n",
    "        [1, 1, 1, 1, 10, 10, 1, 1, 0],\n",
    "    ]\n",
    ")"
   ]
  },
  {
   "cell_type": "markdown",
   "metadata": {},
   "source": [
    "## Calculation"
   ]
  },
  {
   "cell_type": "code",
   "execution_count": null,
   "metadata": {},
   "outputs": [
    {
     "name": "stdout",
     "output_type": "stream",
     "text": [
      "Groups penalty: 117\n",
      "Node in group penalty: 117\n"
     ]
    }
   ],
   "source": [
    "# Automatically generate the constraints coefficients\n",
    "P_g = sum([w[i, j] for i, j in itertools.combinations(range(n_verts), 2)])\n",
    "print(f\"Groups penalty: {P_g}\")\n",
    "P_n = sum([w[i, j] for i, j in itertools.combinations(range(n_verts), 2)])\n",
    "print(f\"Node in group penalty: {P_n}\")"
   ]
  },
  {
   "cell_type": "code",
   "execution_count": 18,
   "metadata": {},
   "outputs": [],
   "source": [
    "# Create a graph\n",
    "V = [i for i in range(n_verts)]\n",
    "G = [i for i in range(n_groups)]\n",
    "\n",
    "x = {(v, g): Binary(f\"{v},{g}\") for v in V for g in G}"
   ]
  },
  {
   "cell_type": "markdown",
   "metadata": {},
   "source": [
    "$$\n",
    "H = P_g \\sum_{v\\in V} \\left( \\sum_{g\\in G} x_{v,g}-1 \\right)^2  +  P_n \\sum_{g\\in G} \\left( \\sum_{v\\in V} x_{v,g}-n \\right)^2  -  \\sum_{g\\in G}\\sum_{(i,j)\\in V} x_{i,g}x_{j,g}w_{i,j}\n",
    "$$"
   ]
  },
  {
   "cell_type": "code",
   "execution_count": null,
   "metadata": {},
   "outputs": [],
   "source": [
    "# Create a model\n",
    "H = (\n",
    "    P_g\n",
    "    * Constraint(\n",
    "        sum((sum(x[v, g] for g in G) - 1) ** 2 for v in V), label=\"group_constraint\"\n",
    "    )\n",
    "    + P_n\n",
    "    * Constraint(\n",
    "        sum((sum(x[v, g] for v in V) - n_group_verts) ** 2 for g in G),\n",
    "        label=\"node_constraint\",\n",
    "    )\n",
    "    - sum(\n",
    "        w[i][j] * x[i, g] * x[j, g]\n",
    "        for g in G\n",
    "        for (i, j) in itertools.combinations(V, 2)\n",
    "    )\n",
    ")\n",
    "\n",
    "\n",
    "# Function for\n",
    "def get_score(x):\n",
    "    group_penalty = P_g * sum((sum(x[v, g] for g in G) - 1) ** 2 for v in V)\n",
    "    node_penalty = P_n * sum((sum(x[v, g] for v in V) - n_group_verts) ** 2 for g in G)\n",
    "    objective_value = sum(\n",
    "        w[i][j] * x[i, g] * x[j, g]\n",
    "        for g in G\n",
    "        for (i, j) in itertools.combinations(V, 2)\n",
    "    )\n",
    "\n",
    "    return group_penalty + node_penalty - objective_value"
   ]
  },
  {
   "cell_type": "code",
   "execution_count": null,
   "metadata": {},
   "outputs": [
    {
     "name": "stdout",
     "output_type": "stream",
     "text": [
      "x[0,0]=1, x[1,0]=1, w[0,1]=10 => 10\n",
      "x[0,1]=0, x[1,1]=0, w[0,1]=10 => 0\n",
      "x[0,2]=0, x[1,2]=0, w[0,1]=10 => 0\n",
      "x[0,0]=1, x[2,0]=0, w[0,2]=1 => 0\n",
      "x[0,1]=0, x[2,1]=0, w[0,2]=1 => 0\n",
      "x[0,2]=0, x[2,2]=1, w[0,2]=1 => 0\n",
      "x[0,0]=1, x[3,0]=0, w[0,3]=1 => 0\n",
      "x[0,1]=0, x[3,1]=0, w[0,3]=1 => 0\n",
      "x[0,2]=0, x[3,2]=1, w[0,3]=1 => 0\n",
      "x[0,0]=1, x[4,0]=0, w[0,4]=1 => 0\n",
      "x[0,1]=0, x[4,1]=1, w[0,4]=1 => 0\n",
      "x[0,2]=0, x[4,2]=0, w[0,4]=1 => 0\n",
      "x[0,0]=1, x[5,0]=0, w[0,5]=1 => 0\n",
      "x[0,1]=0, x[5,1]=1, w[0,5]=1 => 0\n",
      "x[0,2]=0, x[5,2]=0, w[0,5]=1 => 0\n",
      "x[0,0]=1, x[6,0]=1, w[0,6]=10 => 10\n",
      "x[0,1]=0, x[6,1]=0, w[0,6]=10 => 0\n",
      "x[0,2]=0, x[6,2]=0, w[0,6]=10 => 0\n",
      "x[0,0]=1, x[7,0]=0, w[0,7]=1 => 0\n",
      "x[0,1]=0, x[7,1]=1, w[0,7]=1 => 0\n",
      "x[0,2]=0, x[7,2]=0, w[0,7]=1 => 0\n",
      "x[0,0]=1, x[8,0]=0, w[0,8]=1 => 0\n",
      "x[0,1]=0, x[8,1]=0, w[0,8]=1 => 0\n",
      "x[0,2]=0, x[8,2]=1, w[0,8]=1 => 0\n",
      "x[1,0]=1, x[2,0]=0, w[1,2]=1 => 0\n",
      "x[1,1]=0, x[2,1]=0, w[1,2]=1 => 0\n",
      "x[1,2]=0, x[2,2]=1, w[1,2]=1 => 0\n",
      "x[1,0]=1, x[3,0]=0, w[1,3]=1 => 0\n",
      "x[1,1]=0, x[3,1]=0, w[1,3]=1 => 0\n",
      "x[1,2]=0, x[3,2]=1, w[1,3]=1 => 0\n",
      "x[1,0]=1, x[4,0]=0, w[1,4]=1 => 0\n",
      "x[1,1]=0, x[4,1]=1, w[1,4]=1 => 0\n",
      "x[1,2]=0, x[4,2]=0, w[1,4]=1 => 0\n",
      "x[1,0]=1, x[5,0]=0, w[1,5]=1 => 0\n",
      "x[1,1]=0, x[5,1]=1, w[1,5]=1 => 0\n",
      "x[1,2]=0, x[5,2]=0, w[1,5]=1 => 0\n",
      "x[1,0]=1, x[6,0]=1, w[1,6]=10 => 10\n",
      "x[1,1]=0, x[6,1]=0, w[1,6]=10 => 0\n",
      "x[1,2]=0, x[6,2]=0, w[1,6]=10 => 0\n",
      "x[1,0]=1, x[7,0]=0, w[1,7]=1 => 0\n",
      "x[1,1]=0, x[7,1]=1, w[1,7]=1 => 0\n",
      "x[1,2]=0, x[7,2]=0, w[1,7]=1 => 0\n",
      "x[1,0]=1, x[8,0]=0, w[1,8]=1 => 0\n",
      "x[1,1]=0, x[8,1]=0, w[1,8]=1 => 0\n",
      "x[1,2]=0, x[8,2]=1, w[1,8]=1 => 0\n",
      "x[2,0]=0, x[3,0]=0, w[2,3]=10 => 0\n",
      "x[2,1]=0, x[3,1]=0, w[2,3]=10 => 0\n",
      "x[2,2]=1, x[3,2]=1, w[2,3]=10 => 10\n",
      "x[2,0]=0, x[4,0]=0, w[2,4]=1 => 0\n",
      "x[2,1]=0, x[4,1]=1, w[2,4]=1 => 0\n",
      "x[2,2]=1, x[4,2]=0, w[2,4]=1 => 0\n",
      "x[2,0]=0, x[5,0]=0, w[2,5]=1 => 0\n",
      "x[2,1]=0, x[5,1]=1, w[2,5]=1 => 0\n",
      "x[2,2]=1, x[5,2]=0, w[2,5]=1 => 0\n",
      "x[2,0]=0, x[6,0]=1, w[2,6]=1 => 0\n",
      "x[2,1]=0, x[6,1]=0, w[2,6]=1 => 0\n",
      "x[2,2]=1, x[6,2]=0, w[2,6]=1 => 0\n",
      "x[2,0]=0, x[7,0]=0, w[2,7]=10 => 0\n",
      "x[2,1]=0, x[7,1]=1, w[2,7]=10 => 0\n",
      "x[2,2]=1, x[7,2]=0, w[2,7]=10 => 0\n",
      "x[2,0]=0, x[8,0]=0, w[2,8]=1 => 0\n",
      "x[2,1]=0, x[8,1]=0, w[2,8]=1 => 0\n",
      "x[2,2]=1, x[8,2]=1, w[2,8]=1 => 1\n",
      "x[3,0]=0, x[4,0]=0, w[3,4]=1 => 0\n",
      "x[3,1]=0, x[4,1]=1, w[3,4]=1 => 0\n",
      "x[3,2]=1, x[4,2]=0, w[3,4]=1 => 0\n",
      "x[3,0]=0, x[5,0]=0, w[3,5]=1 => 0\n",
      "x[3,1]=0, x[5,1]=1, w[3,5]=1 => 0\n",
      "x[3,2]=1, x[5,2]=0, w[3,5]=1 => 0\n",
      "x[3,0]=0, x[6,0]=1, w[3,6]=1 => 0\n",
      "x[3,1]=0, x[6,1]=0, w[3,6]=1 => 0\n",
      "x[3,2]=1, x[6,2]=0, w[3,6]=1 => 0\n",
      "x[3,0]=0, x[7,0]=0, w[3,7]=10 => 0\n",
      "x[3,1]=0, x[7,1]=1, w[3,7]=10 => 0\n",
      "x[3,2]=1, x[7,2]=0, w[3,7]=10 => 0\n",
      "x[3,0]=0, x[8,0]=0, w[3,8]=1 => 0\n",
      "x[3,1]=0, x[8,1]=0, w[3,8]=1 => 0\n",
      "x[3,2]=1, x[8,2]=1, w[3,8]=1 => 1\n",
      "x[4,0]=0, x[5,0]=0, w[4,5]=10 => 0\n",
      "x[4,1]=1, x[5,1]=1, w[4,5]=10 => 10\n",
      "x[4,2]=0, x[5,2]=0, w[4,5]=10 => 0\n",
      "x[4,0]=0, x[6,0]=1, w[4,6]=1 => 0\n",
      "x[4,1]=1, x[6,1]=0, w[4,6]=1 => 0\n",
      "x[4,2]=0, x[6,2]=0, w[4,6]=1 => 0\n",
      "x[4,0]=0, x[7,0]=0, w[4,7]=1 => 0\n",
      "x[4,1]=1, x[7,1]=1, w[4,7]=1 => 1\n",
      "x[4,2]=0, x[7,2]=0, w[4,7]=1 => 0\n",
      "x[4,0]=0, x[8,0]=0, w[4,8]=10 => 0\n",
      "x[4,1]=1, x[8,1]=0, w[4,8]=10 => 0\n",
      "x[4,2]=0, x[8,2]=1, w[4,8]=10 => 0\n",
      "x[5,0]=0, x[6,0]=1, w[5,6]=1 => 0\n",
      "x[5,1]=1, x[6,1]=0, w[5,6]=1 => 0\n",
      "x[5,2]=0, x[6,2]=0, w[5,6]=1 => 0\n",
      "x[5,0]=0, x[7,0]=0, w[5,7]=1 => 0\n",
      "x[5,1]=1, x[7,1]=1, w[5,7]=1 => 1\n",
      "x[5,2]=0, x[7,2]=0, w[5,7]=1 => 0\n",
      "x[5,0]=0, x[8,0]=0, w[5,8]=10 => 0\n",
      "x[5,1]=1, x[8,1]=0, w[5,8]=10 => 0\n",
      "x[5,2]=0, x[8,2]=1, w[5,8]=10 => 0\n",
      "x[6,0]=1, x[7,0]=0, w[6,7]=1 => 0\n",
      "x[6,1]=0, x[7,1]=1, w[6,7]=1 => 0\n",
      "x[6,2]=0, x[7,2]=0, w[6,7]=1 => 0\n",
      "x[6,0]=1, x[8,0]=0, w[6,8]=1 => 0\n",
      "x[6,1]=0, x[8,1]=0, w[6,8]=1 => 0\n",
      "x[6,2]=0, x[8,2]=1, w[6,8]=1 => 0\n",
      "x[7,0]=0, x[8,0]=0, w[7,8]=1 => 0\n",
      "x[7,1]=1, x[8,1]=0, w[7,8]=1 => 0\n",
      "x[7,2]=0, x[8,2]=1, w[7,8]=1 => 0\n"
     ]
    }
   ],
   "source": [
    "# Compile the model\n",
    "model = H.compile()\n",
    "qubo, offset = model.to_qubo()\n",
    "\n",
    "\n",
    "# Optimize with OpenJij\n",
    "sampler = oj.SASampler()\n",
    "response = sampler.sample_qubo(qubo)\n",
    "decoded_samples = model.decode_sample(response.first.sample, vartype=\"BINARY\")\n",
    "solution = {key: val for key, val in decoded_samples.sample.items() if val == 1}\n",
    "\n",
    "\n",
    "# Score the result\n",
    "rows = np.zeros((len(V), len(G)), dtype=int)\n",
    "labels_row = [f\"v{i}\" for i in V]\n",
    "labels_col = [f\"g{i}\" for i in G]\n",
    "for key, val in solution.items():\n",
    "    v, g = key.split(\",\")\n",
    "    rows[int(v), int(g)] = val\n",
    "\n",
    "# score = get_score(rows)\n",
    "# print(f\"Score: {score}\")\n",
    "\n",
    "rows_theorical_score = np.array(\n",
    "    [\n",
    "        [1, 0, 0],\n",
    "        [1, 0, 0],\n",
    "        [0, 0, 1],\n",
    "        [0, 0, 1],\n",
    "        [0, 1, 0],\n",
    "        [0, 1, 0],\n",
    "        [1, 0, 0],\n",
    "        [0, 1, 0],\n",
    "        [0, 0, 1],\n",
    "    ]\n",
    ")\n",
    "rows_theorical_score = get_score(rows_theorical_score)\n",
    "print(f\"Theorical score: {rows_theorical_score}\")\n"
   ]
  },
  {
   "cell_type": "code",
   "execution_count": null,
   "metadata": {},
   "outputs": [
    {
     "data": {
      "image/png": "[encoded data removed]",
      "text/plain": [
       "<Figure size 300x300 with 1 Axes>"
      ]
     },
     "metadata": {},
     "output_type": "display_data"
    }
   ],
   "source": [
    "# Show the result\n",
    "fig, ax = plt.subplots(figsize=(len(G), len(V) / 3))\n",
    "ax.axis(\"tight\")\n",
    "ax.axis(\"off\")\n",
    "table_data = []\n",
    "for i, row in enumerate(rows):\n",
    "    table_data.append([labels_row[i]] + list(row))\n",
    "\n",
    "ax.table(\n",
    "    cellText=table_data, colLabels=[\"\"] + labels_col, cellLoc=\"center\", loc=\"center\"\n",
    ")\n",
    "plt.show()\n"
   ]
  }
 ],
 "metadata": {
  "kernelspec": {
   "display_name": ".venv",
   "language": "python",
   "name": "python3"
  },
  "language_info": {
   "codemirror_mode": {
    "name": "ipython",
    "version": 3
   },
   "file_extension": ".py",
   "mimetype": "text/x-python",
   "name": "python",
   "nbconvert_exporter": "python",
   "pygments_lexer": "ipython3",
   "version": "3.11.6"
  }
 },
 "nbformat": 4,
 "nbformat_minor": 2
}
